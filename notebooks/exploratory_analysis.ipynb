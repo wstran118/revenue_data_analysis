{
 "cells": [
  {
   "cell_type": "code",
   "execution_count": null,
   "id": "77fce38d",
   "metadata": {
    "vscode": {
     "languageId": "plaintext"
    }
   },
   "outputs": [],
   "source": [
    "{\n",
    " \"cells\": [\n",
    "  {\n",
    "   \"cell_type\": \"markdown\",\n",
    "   \"source\": [\n",
    "    \"# Exploratory Data Analysis\\n\",\n",
    "    \"This notebook explores the sales dataset to identify trends and patterns.\"\n",
    "   ]\n",
    "  },\n",
    "  {\n",
    "   \"cell_type\": \"code\",\n",
    "   \"execution_count\": null,\n",
    "   \"source\": [\n",
    "    \"import pandas as pd\\n\",\n",
    "    \"import seaborn as sns\\n\",\n",
    "    \"import matplotlib.pyplot as plt\\n\",\n",
    "    \"\\n\",\n",
    "    \"# Load data\\n\",\n",
    "    \"df = pd.read_csv('../data/cleaned_sales_data.csv')\\n\",\n",
    "    \"\\n\",\n",
    "    \"# Basic info\\n\",\n",
    "    \"df.info()\\n\",\n",
    "    \"df.head()\"\n",
    "   ],\n",
    "   \"outputs\": []\n",
    "  },\n",
    "  {\n",
    "   \"cell_type\": \"code\",\n",
    "   \"execution_count\": null,\n",
    "   \"source\": [\n",
    "    \"# Correlation matrix\\n\",\n",
    "    \"plt.figure(figsize=(8, 6))\\n\",\n",
    "    \"sns.heatmap(df.corr(), annot=True, cmap='coolwarm')\\n\",\n",
    "    \"plt.title('Correlation Matrix')\\n\",\n",
    "    \"plt.show()\"\n",
    "   ],\n",
    "   \"outputs\": []\n",
    "  },\n",
    "  {\n",
    "   \"cell_type\": \"code\",\n",
    "   \"execution_count\": null,\n",
    "   \"source\": [\n",
    "    \"# Sales distribution by region\\n\",\n",
    "    \"plt.figure(figsize=(10, 6))\\n\",\n",
    "    \"sns.boxplot(data=df, x='region', y='revenue')\\n\",\n",
    "    \"plt.title('Revenue Distribution by Region')\\n\",\n",
    "    \"plt.show()\"\n",
    "   ],\n",
    "   \"outputs\": []\n",
    "  }\n",
    " ],\n",
    " \"metadata\": {\n",
    "  \"kernelspec\": {\n",
    "   \"display_name\": \"Python 3\",\n",
    "   \"language\": \"python\",\n",
    "   \"name\": \"python3\"\n",
    "  }\n",
    " },\n",
    " \"nbformat\": 4,\n",
    " \"nbformat_minor\": 5\n",
    "}"
   ]
  }
 ],
 "metadata": {
  "language_info": {
   "name": "python"
  }
 },
 "nbformat": 4,
 "nbformat_minor": 5
}
